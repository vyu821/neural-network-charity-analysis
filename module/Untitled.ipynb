{
 "cells": [
  {
   "cell_type": "code",
   "execution_count": 1,
   "metadata": {},
   "outputs": [],
   "source": [
    "# Import our dependencies\n",
    "import pandas as pd\n",
    "import matplotlib as plt\n",
    "from sklearn.datasets import make_blobs\n",
    "import sklearn as skl\n",
    "import tensorflow as tf"
   ]
  },
  {
   "cell_type": "code",
   "execution_count": 2,
   "metadata": {},
   "outputs": [
    {
     "data": {
      "text/plain": [
       "<matplotlib.axes._subplots.AxesSubplot at 0x17dec021088>"
      ]
     },
     "execution_count": 2,
     "metadata": {},
     "output_type": "execute_result"
    },
    {
     "data": {
      "image/png": "[encoded data removed]",
      "text/plain": [
       "<Figure size 432x288 with 2 Axes>"
      ]
     },
     "metadata": {
      "needs_background": "light"
     },
     "output_type": "display_data"
    }
   ],
   "source": [
    "# Generate dummy dataset\n",
    "X, y = make_blobs(n_samples=1000, centers=2, n_features=2, random_state=78)\n",
    "\n",
    "# Creating a DataFrame with the dummy data\n",
    "df = pd.DataFrame(X, columns=[\"Feature 1\", \"Feature 2\"])\n",
    "df[\"Target\"] = y\n",
    "\n",
    "# Plotting the dummy data\n",
    "df.plot.scatter(x=\"Feature 1\", y=\"Feature 2\", c=\"Target\", colormap=\"winter\")"
   ]
  },
  {
   "cell_type": "code",
   "execution_count": 3,
   "metadata": {},
   "outputs": [],
   "source": [
    "# Use sklearn to split dataset\n",
    "from sklearn.model_selection import train_test_split\n",
    "X_train, X_test, y_train, y_test = train_test_split(X, y, random_state=78)"
   ]
  },
  {
   "cell_type": "code",
   "execution_count": 4,
   "metadata": {},
   "outputs": [],
   "source": [
    "# Create scaler instance\n",
    "X_scaler = skl.preprocessing.StandardScaler()\n",
    "\n",
    "# Fit the scaler\n",
    "X_scaler.fit(X_train)\n",
    "\n",
    "# Scale the data\n",
    "X_train_scaled = X_scaler.transform(X_train)\n",
    "X_test_scaled = X_scaler.transform(X_test)"
   ]
  },
  {
   "cell_type": "code",
   "execution_count": 5,
   "metadata": {},
   "outputs": [],
   "source": [
    "# Create the Keras Sequential model\n",
    "nn_model = tf.keras.models.Sequential()"
   ]
  },
  {
   "cell_type": "code",
   "execution_count": 6,
   "metadata": {},
   "outputs": [],
   "source": [
    "# Add our first Dense layer, including the input layer\n",
    "nn_model.add(tf.keras.layers.Dense(units=1, activation=\"relu\", input_dim=2))"
   ]
  },
  {
   "cell_type": "code",
   "execution_count": 7,
   "metadata": {},
   "outputs": [],
   "source": [
    "# Add the output layer that uses a probability activation function\n",
    "nn_model.add(tf.keras.layers.Dense(units=1, activation=\"sigmoid\"))"
   ]
  },
  {
   "cell_type": "code",
   "execution_count": 8,
   "metadata": {},
   "outputs": [
    {
     "name": "stdout",
     "output_type": "stream",
     "text": [
      "Model: \"sequential\"\n",
      "_________________________________________________________________\n",
      "Layer (type)                 Output Shape              Param #   \n",
      "=================================================================\n",
      "dense (Dense)                (None, 1)                 3         \n",
      "_________________________________________________________________\n",
      "dense_1 (Dense)              (None, 1)                 2         \n",
      "=================================================================\n",
      "Total params: 5\n",
      "Trainable params: 5\n",
      "Non-trainable params: 0\n",
      "_________________________________________________________________\n"
     ]
    }
   ],
   "source": [
    "# Check the structure of the Sequential model\n",
    "nn_model.summary()"
   ]
  },
  {
   "cell_type": "code",
   "execution_count": 9,
   "metadata": {},
   "outputs": [],
   "source": [
    "# Compile the Sequential model together and customize metrics\n",
    "nn_model.compile(loss=\"binary_crossentropy\", optimizer=\"adam\", metrics=[\"accuracy\"])"
   ]
  },
  {
   "cell_type": "code",
   "execution_count": 10,
   "metadata": {},
   "outputs": [
    {
     "name": "stdout",
     "output_type": "stream",
     "text": [
      "Epoch 1/100\n",
      "24/24 [==============================] - 0s 374us/step - loss: 1.3745 - accuracy: 0.0720\n",
      "Epoch 2/100\n",
      "24/24 [==============================] - 0s 332us/step - loss: 1.3243 - accuracy: 0.0493\n",
      "Epoch 3/100\n",
      "24/24 [==============================] - 0s 332us/step - loss: 1.2766 - accuracy: 0.0533\n",
      "Epoch 4/100\n",
      "24/24 [==============================] - 0s 332us/step - loss: 1.2326 - accuracy: 0.0587\n",
      "Epoch 5/100\n",
      "24/24 [==============================] - 0s 353us/step - loss: 1.1905 - accuracy: 0.0680\n",
      "Epoch 6/100\n",
      "24/24 [==============================] - 0s 332us/step - loss: 1.1526 - accuracy: 0.0693\n",
      "Epoch 7/100\n",
      "24/24 [==============================] - 0s 332us/step - loss: 1.1169 - accuracy: 0.0747\n",
      "Epoch 8/100\n",
      "24/24 [==============================] - 0s 374us/step - loss: 1.0841 - accuracy: 0.0827\n",
      "Epoch 9/100\n",
      "24/24 [==============================] - 0s 332us/step - loss: 1.0538 - accuracy: 0.0893\n",
      "Epoch 10/100\n",
      "24/24 [==============================] - 0s 374us/step - loss: 1.0259 - accuracy: 0.0947\n",
      "Epoch 11/100\n",
      "24/24 [==============================] - 0s 374us/step - loss: 0.9993 - accuracy: 0.1013\n",
      "Epoch 12/100\n",
      "24/24 [==============================] - 0s 332us/step - loss: 0.9758 - accuracy: 0.1080\n",
      "Epoch 13/100\n",
      "24/24 [==============================] - 0s 374us/step - loss: 0.9536 - accuracy: 0.1173\n",
      "Epoch 14/100\n",
      "24/24 [==============================] - 0s 374us/step - loss: 0.9335 - accuracy: 0.1267\n",
      "Epoch 15/100\n",
      "24/24 [==============================] - 0s 374us/step - loss: 0.9145 - accuracy: 0.1360\n",
      "Epoch 16/100\n",
      "24/24 [==============================] - 0s 374us/step - loss: 0.8970 - accuracy: 0.1480\n",
      "Epoch 17/100\n",
      "24/24 [==============================] - 0s 374us/step - loss: 0.8807 - accuracy: 0.1587\n",
      "Epoch 18/100\n",
      "24/24 [==============================] - 0s 332us/step - loss: 0.8658 - accuracy: 0.1720\n",
      "Epoch 19/100\n",
      "24/24 [==============================] - 0s 332us/step - loss: 0.8521 - accuracy: 0.1853\n",
      "Epoch 20/100\n",
      "24/24 [==============================] - 0s 332us/step - loss: 0.8394 - accuracy: 0.1933\n",
      "Epoch 21/100\n",
      "24/24 [==============================] - 0s 332us/step - loss: 0.8280 - accuracy: 0.2040\n",
      "Epoch 22/100\n",
      "24/24 [==============================] - 0s 2ms/step - loss: 0.8171 - accuracy: 0.2053\n",
      "Epoch 23/100\n",
      "24/24 [==============================] - 0s 374us/step - loss: 0.8073 - accuracy: 0.2093\n",
      "Epoch 24/100\n",
      "24/24 [==============================] - 0s 374us/step - loss: 0.7980 - accuracy: 0.2227\n",
      "Epoch 25/100\n",
      "24/24 [==============================] - 0s 374us/step - loss: 0.7896 - accuracy: 0.2307\n",
      "Epoch 26/100\n",
      "24/24 [==============================] - 0s 374us/step - loss: 0.7817 - accuracy: 0.2400\n",
      "Epoch 27/100\n",
      "24/24 [==============================] - 0s 374us/step - loss: 0.7743 - accuracy: 0.2587\n",
      "Epoch 28/100\n",
      "24/24 [==============================] - 0s 332us/step - loss: 0.7673 - accuracy: 0.2693\n",
      "Epoch 29/100\n",
      "24/24 [==============================] - 0s 374us/step - loss: 0.7608 - accuracy: 0.2813\n",
      "Epoch 30/100\n",
      "24/24 [==============================] - 0s 374us/step - loss: 0.7547 - accuracy: 0.2933\n",
      "Epoch 31/100\n",
      "24/24 [==============================] - 0s 332us/step - loss: 0.7489 - accuracy: 0.3080\n",
      "Epoch 32/100\n",
      "24/24 [==============================] - 0s 374us/step - loss: 0.7436 - accuracy: 0.3293\n",
      "Epoch 33/100\n",
      "24/24 [==============================] - 0s 332us/step - loss: 0.7387 - accuracy: 0.3387\n",
      "Epoch 34/100\n",
      "24/24 [==============================] - 0s 332us/step - loss: 0.7344 - accuracy: 0.3467\n",
      "Epoch 35/100\n",
      "24/24 [==============================] - 0s 332us/step - loss: 0.7303 - accuracy: 0.3547\n",
      "Epoch 36/100\n",
      "24/24 [==============================] - 0s 332us/step - loss: 0.7266 - accuracy: 0.3693\n",
      "Epoch 37/100\n",
      "24/24 [==============================] - 0s 332us/step - loss: 0.7233 - accuracy: 0.3787\n",
      "Epoch 38/100\n",
      "24/24 [==============================] - 0s 374us/step - loss: 0.7205 - accuracy: 0.3827\n",
      "Epoch 39/100\n",
      "24/24 [==============================] - 0s 374us/step - loss: 0.7180 - accuracy: 0.3853\n",
      "Epoch 40/100\n",
      "24/24 [==============================] - 0s 332us/step - loss: 0.7156 - accuracy: 0.3920\n",
      "Epoch 41/100\n",
      "24/24 [==============================] - 0s 374us/step - loss: 0.7135 - accuracy: 0.3947\n",
      "Epoch 42/100\n",
      "24/24 [==============================] - 0s 374us/step - loss: 0.7117 - accuracy: 0.4013\n",
      "Epoch 43/100\n",
      "24/24 [==============================] - 0s 374us/step - loss: 0.7100 - accuracy: 0.4040\n",
      "Epoch 44/100\n",
      "24/24 [==============================] - 0s 374us/step - loss: 0.7085 - accuracy: 0.4093\n",
      "Epoch 45/100\n",
      "24/24 [==============================] - 0s 374us/step - loss: 0.7072 - accuracy: 0.4120\n",
      "Epoch 46/100\n",
      "24/24 [==============================] - 0s 358us/step - loss: 0.7058 - accuracy: 0.4187\n",
      "Epoch 47/100\n",
      "24/24 [==============================] - 0s 332us/step - loss: 0.7046 - accuracy: 0.4213\n",
      "Epoch 48/100\n",
      "24/24 [==============================] - 0s 374us/step - loss: 0.7035 - accuracy: 0.4280\n",
      "Epoch 49/100\n",
      "24/24 [==============================] - 0s 332us/step - loss: 0.7025 - accuracy: 0.4307\n",
      "Epoch 50/100\n",
      "24/24 [==============================] - 0s 374us/step - loss: 0.7015 - accuracy: 0.4347\n",
      "Epoch 51/100\n",
      "24/24 [==============================] - 0s 332us/step - loss: 0.7007 - accuracy: 0.4400\n",
      "Epoch 52/100\n",
      "24/24 [==============================] - 0s 332us/step - loss: 0.6999 - accuracy: 0.4427\n",
      "Epoch 53/100\n",
      "24/24 [==============================] - 0s 332us/step - loss: 0.6993 - accuracy: 0.4467\n",
      "Epoch 54/100\n",
      "24/24 [==============================] - 0s 374us/step - loss: 0.6987 - accuracy: 0.4507\n",
      "Epoch 55/100\n",
      "24/24 [==============================] - 0s 332us/step - loss: 0.6982 - accuracy: 0.4520\n",
      "Epoch 56/100\n",
      "24/24 [==============================] - 0s 374us/step - loss: 0.6977 - accuracy: 0.4520\n",
      "Epoch 57/100\n",
      "24/24 [==============================] - 0s 332us/step - loss: 0.6973 - accuracy: 0.4533\n",
      "Epoch 58/100\n",
      "24/24 [==============================] - 0s 351us/step - loss: 0.6969 - accuracy: 0.4573\n",
      "Epoch 59/100\n",
      "24/24 [==============================] - 0s 332us/step - loss: 0.6966 - accuracy: 0.4600\n",
      "Epoch 60/100\n",
      "24/24 [==============================] - 0s 374us/step - loss: 0.6963 - accuracy: 0.4627\n",
      "Epoch 61/100\n",
      "24/24 [==============================] - 0s 332us/step - loss: 0.6960 - accuracy: 0.4627\n",
      "Epoch 62/100\n",
      "24/24 [==============================] - 0s 332us/step - loss: 0.6957 - accuracy: 0.4627\n",
      "Epoch 63/100\n",
      "24/24 [==============================] - 0s 374us/step - loss: 0.6955 - accuracy: 0.4640\n",
      "Epoch 64/100\n",
      "24/24 [==============================] - 0s 374us/step - loss: 0.6953 - accuracy: 0.4640\n",
      "Epoch 65/100\n",
      "24/24 [==============================] - 0s 374us/step - loss: 0.6951 - accuracy: 0.4640\n",
      "Epoch 66/100\n",
      "24/24 [==============================] - 0s 332us/step - loss: 0.6950 - accuracy: 0.4680\n",
      "Epoch 67/100\n",
      "24/24 [==============================] - 0s 332us/step - loss: 0.6948 - accuracy: 0.4707\n",
      "Epoch 68/100\n",
      "24/24 [==============================] - 0s 374us/step - loss: 0.6946 - accuracy: 0.4733\n",
      "Epoch 69/100\n",
      "24/24 [==============================] - 0s 374us/step - loss: 0.6945 - accuracy: 0.4760\n",
      "Epoch 70/100\n",
      "24/24 [==============================] - 0s 332us/step - loss: 0.6944 - accuracy: 0.4760\n",
      "Epoch 71/100\n",
      "24/24 [==============================] - 0s 332us/step - loss: 0.6943 - accuracy: 0.4773\n",
      "Epoch 72/100\n",
      "24/24 [==============================] - 0s 332us/step - loss: 0.6942 - accuracy: 0.4773\n",
      "Epoch 73/100\n",
      "24/24 [==============================] - 0s 334us/step - loss: 0.6942 - accuracy: 0.5067\n",
      "Epoch 74/100\n",
      "24/24 [==============================] - 0s 332us/step - loss: 0.6942 - accuracy: 0.4400\n",
      "Epoch 75/100\n",
      "24/24 [==============================] - 0s 374us/step - loss: 0.6941 - accuracy: 0.5067\n",
      "Epoch 76/100\n",
      "24/24 [==============================] - 0s 332us/step - loss: 0.6940 - accuracy: 0.5067\n",
      "Epoch 77/100\n",
      "24/24 [==============================] - 0s 363us/step - loss: 0.6940 - accuracy: 0.5067\n",
      "Epoch 78/100\n",
      "24/24 [==============================] - 0s 320us/step - loss: 0.6940 - accuracy: 0.5067\n",
      "Epoch 79/100\n",
      "24/24 [==============================] - 0s 332us/step - loss: 0.6939 - accuracy: 0.5067\n",
      "Epoch 80/100\n",
      "24/24 [==============================] - 0s 374us/step - loss: 0.6939 - accuracy: 0.5067\n",
      "Epoch 81/100\n"
     ]
    },
    {
     "name": "stdout",
     "output_type": "stream",
     "text": [
      "24/24 [==============================] - 0s 332us/step - loss: 0.6939 - accuracy: 0.5067\n",
      "Epoch 82/100\n",
      "24/24 [==============================] - 0s 332us/step - loss: 0.6938 - accuracy: 0.5067\n",
      "Epoch 83/100\n",
      "24/24 [==============================] - 0s 332us/step - loss: 0.6938 - accuracy: 0.5067\n",
      "Epoch 84/100\n",
      "24/24 [==============================] - 0s 332us/step - loss: 0.6938 - accuracy: 0.5067\n",
      "Epoch 85/100\n",
      "24/24 [==============================] - 0s 332us/step - loss: 0.6938 - accuracy: 0.5067\n",
      "Epoch 86/100\n",
      "24/24 [==============================] - 0s 365us/step - loss: 0.6937 - accuracy: 0.5067\n",
      "Epoch 87/100\n",
      "24/24 [==============================] - 0s 374us/step - loss: 0.6937 - accuracy: 0.5067\n",
      "Epoch 88/100\n",
      "24/24 [==============================] - 0s 332us/step - loss: 0.6937 - accuracy: 0.5067\n",
      "Epoch 89/100\n",
      "24/24 [==============================] - 0s 332us/step - loss: 0.6937 - accuracy: 0.5067\n",
      "Epoch 90/100\n",
      "24/24 [==============================] - 0s 332us/step - loss: 0.6937 - accuracy: 0.5067\n",
      "Epoch 91/100\n",
      "24/24 [==============================] - 0s 332us/step - loss: 0.6937 - accuracy: 0.5067\n",
      "Epoch 92/100\n",
      "24/24 [==============================] - 0s 374us/step - loss: 0.6936 - accuracy: 0.5067\n",
      "Epoch 93/100\n",
      "24/24 [==============================] - 0s 374us/step - loss: 0.6936 - accuracy: 0.5067\n",
      "Epoch 94/100\n",
      "24/24 [==============================] - 0s 332us/step - loss: 0.6936 - accuracy: 0.5067\n",
      "Epoch 95/100\n",
      "24/24 [==============================] - 0s 332us/step - loss: 0.6936 - accuracy: 0.5067\n",
      "Epoch 96/100\n",
      "24/24 [==============================] - 0s 332us/step - loss: 0.6936 - accuracy: 0.5067\n",
      "Epoch 97/100\n",
      "24/24 [==============================] - 0s 332us/step - loss: 0.6936 - accuracy: 0.5067\n",
      "Epoch 98/100\n",
      "24/24 [==============================] - 0s 332us/step - loss: 0.6936 - accuracy: 0.5067\n",
      "Epoch 99/100\n",
      "24/24 [==============================] - 0s 332us/step - loss: 0.6935 - accuracy: 0.5067\n",
      "Epoch 100/100\n",
      "24/24 [==============================] - 0s 332us/step - loss: 0.6935 - accuracy: 0.5067\n"
     ]
    }
   ],
   "source": [
    "# Fit the model to the training data\n",
    "fit_model = nn_model.fit(X_train_scaled, y_train, epochs=100)"
   ]
  },
  {
   "cell_type": "code",
   "execution_count": 11,
   "metadata": {},
   "outputs": [
    {
     "data": {
      "text/plain": [
       "<matplotlib.axes._subplots.AxesSubplot at 0x17df440cc48>"
      ]
     },
     "execution_count": 11,
     "metadata": {},
     "output_type": "execute_result"
    },
    {
     "data": {
      "image/png": "[encoded data removed]",
      "text/plain": [
       "<Figure size 432x288 with 1 Axes>"
      ]
     },
     "metadata": {
      "needs_background": "light"
     },
     "output_type": "display_data"
    }
   ],
   "source": [
    "# Create a DataFrame containing training history\n",
    "history_df = pd.DataFrame(fit_model.history, index=range(1,len(fit_model.history[\"loss\"])+1))\n",
    "\n",
    "# Plot the loss\n",
    "history_df.plot(y=\"loss\")"
   ]
  },
  {
   "cell_type": "code",
   "execution_count": 12,
   "metadata": {},
   "outputs": [
    {
     "data": {
      "text/plain": [
       "<matplotlib.axes._subplots.AxesSubplot at 0x17df55d3288>"
      ]
     },
     "execution_count": 12,
     "metadata": {},
     "output_type": "execute_result"
    },
    {
     "data": {
      "image/png": "[encoded data removed]",
      "text/plain": [
       "<Figure size 432x288 with 1 Axes>"
      ]
     },
     "metadata": {
      "needs_background": "light"
     },
     "output_type": "display_data"
    }
   ],
   "source": [
    "# Plot the accuracy\n",
    "history_df.plot(y=\"accuracy\")"
   ]
  },
  {
   "cell_type": "code",
   "execution_count": 13,
   "metadata": {},
   "outputs": [
    {
     "name": "stdout",
     "output_type": "stream",
     "text": [
      "8/8 - 0s - loss: 0.6936 - accuracy: 0.4800\n",
      "Loss: 0.693616509437561, Accuracy: 0.47999998927116394\n"
     ]
    }
   ],
   "source": [
    "# Evaluate the model using the test data\n",
    "model_loss, model_accuracy = nn_model.evaluate(X_test_scaled,y_test,verbose=2)\n",
    "print(f\"Loss: {model_loss}, Accuracy: {model_accuracy}\")"
   ]
  },
  {
   "cell_type": "code",
   "execution_count": 14,
   "metadata": {},
   "outputs": [
    {
     "data": {
      "text/plain": [
       "array([[0],\n",
       "       [0],\n",
       "       [0],\n",
       "       [0],\n",
       "       [0],\n",
       "       [0],\n",
       "       [0],\n",
       "       [0],\n",
       "       [0],\n",
       "       [0]])"
      ]
     },
     "execution_count": 14,
     "metadata": {},
     "output_type": "execute_result"
    }
   ],
   "source": [
    "# Predict the classification of a new set of blob data\n",
    "new_X, new_Y = make_blobs(n_samples=10, centers=2, n_features=2, random_state=78)\n",
    "new_X_scaled = X_scaler.transform(new_X)\n",
    "(nn_model.predict(new_X_scaled) > 0.5).astype(\"int32\")"
   ]
  },
  {
   "cell_type": "code",
   "execution_count": 15,
   "metadata": {},
   "outputs": [
    {
     "data": {
      "text/plain": [
       "<matplotlib.axes._subplots.AxesSubplot at 0x17df568f4c8>"
      ]
     },
     "execution_count": 15,
     "metadata": {},
     "output_type": "execute_result"
    },
    {
     "data": {
      "image/png": "[encoded data removed]",
      "text/plain": [
       "<Figure size 432x288 with 2 Axes>"
      ]
     },
     "metadata": {
      "needs_background": "light"
     },
     "output_type": "display_data"
    }
   ],
   "source": [
    "from sklearn.datasets import make_moons\n",
    "\n",
    "# Creating dummy nonlinear data\n",
    "X_moons, y_moons = make_moons(n_samples=1000, noise=0.08, random_state=78)\n",
    "\n",
    "# Transforming y_moons to a vertical vector\n",
    "y_moons = y_moons.reshape(-1, 1)\n",
    "\n",
    "# Creating a DataFrame to plot the nonlinear dummy data\n",
    "df_moons = pd.DataFrame(X_moons, columns=[\"Feature 1\", \"Feature 2\"])\n",
    "df_moons[\"Target\"] = y_moons\n",
    "\n",
    "# Plot the nonlinear dummy data\n",
    "df_moons.plot.scatter(x=\"Feature 1\",y=\"Feature 2\", c=\"Target\",colormap=\"winter\")"
   ]
  },
  {
   "cell_type": "code",
   "execution_count": 16,
   "metadata": {},
   "outputs": [],
   "source": [
    "# Create training and testing sets\n",
    "X_moon_train, X_moon_test, y_moon_train, y_moon_test = train_test_split(\n",
    "    X_moons, y_moons, random_state=78\n",
    ")\n",
    "\n",
    "# Create the scaler instance\n",
    "X_moon_scaler = skl.preprocessing.StandardScaler()\n",
    "\n",
    "# Fit the scaler\n",
    "X_moon_scaler.fit(X_moon_train)\n",
    "\n",
    "# Scale the data\n",
    "X_moon_train_scaled = X_moon_scaler.transform(X_moon_train)\n",
    "X_moon_test_scaled = X_moon_scaler.transform(X_moon_test)"
   ]
  },
  {
   "cell_type": "code",
   "execution_count": 17,
   "metadata": {},
   "outputs": [
    {
     "name": "stdout",
     "output_type": "stream",
     "text": [
      "Epoch 1/100\n",
      "24/24 [==============================] - 0s 540us/step - loss: 0.6842 - accuracy: 0.5307\n",
      "Epoch 2/100\n",
      "24/24 [==============================] - 0s 582us/step - loss: 0.6805 - accuracy: 0.5307\n",
      "Epoch 3/100\n",
      "24/24 [==============================] - 0s 540us/step - loss: 0.6752 - accuracy: 0.5307\n",
      "Epoch 4/100\n",
      "24/24 [==============================] - 0s 540us/step - loss: 0.6688 - accuracy: 0.5307\n",
      "Epoch 5/100\n",
      "24/24 [==============================] - 0s 540us/step - loss: 0.6611 - accuracy: 0.5307\n",
      "Epoch 6/100\n",
      "24/24 [==============================] - 0s 540us/step - loss: 0.6528 - accuracy: 0.5307\n",
      "Epoch 7/100\n",
      "24/24 [==============================] - 0s 540us/step - loss: 0.6437 - accuracy: 0.5307\n",
      "Epoch 8/100\n",
      "24/24 [==============================] - 0s 582us/step - loss: 0.6340 - accuracy: 0.5307\n",
      "Epoch 9/100\n",
      "24/24 [==============================] - 0s 540us/step - loss: 0.6238 - accuracy: 0.5307\n",
      "Epoch 10/100\n",
      "24/24 [==============================] - 0s 540us/step - loss: 0.6135 - accuracy: 0.5307\n",
      "Epoch 11/100\n",
      "24/24 [==============================] - 0s 540us/step - loss: 0.6030 - accuracy: 0.5307\n",
      "Epoch 12/100\n",
      "24/24 [==============================] - 0s 540us/step - loss: 0.5924 - accuracy: 0.5307\n",
      "Epoch 13/100\n",
      "24/24 [==============================] - 0s 540us/step - loss: 0.5817 - accuracy: 0.6027\n",
      "Epoch 14/100\n",
      "24/24 [==============================] - 0s 540us/step - loss: 0.5712 - accuracy: 0.8600\n",
      "Epoch 15/100\n",
      "24/24 [==============================] - 0s 582us/step - loss: 0.5609 - accuracy: 0.8587\n",
      "Epoch 16/100\n",
      "24/24 [==============================] - 0s 540us/step - loss: 0.5508 - accuracy: 0.8600\n",
      "Epoch 17/100\n",
      "24/24 [==============================] - 0s 540us/step - loss: 0.5410 - accuracy: 0.8613\n",
      "Epoch 18/100\n",
      "24/24 [==============================] - 0s 582us/step - loss: 0.5316 - accuracy: 0.8600\n",
      "Epoch 19/100\n",
      "24/24 [==============================] - 0s 582us/step - loss: 0.5224 - accuracy: 0.8627\n",
      "Epoch 20/100\n",
      "24/24 [==============================] - 0s 540us/step - loss: 0.5134 - accuracy: 0.8640\n",
      "Epoch 21/100\n",
      "24/24 [==============================] - 0s 582us/step - loss: 0.5049 - accuracy: 0.8653\n",
      "Epoch 22/100\n",
      "24/24 [==============================] - 0s 540us/step - loss: 0.4967 - accuracy: 0.8653\n",
      "Epoch 23/100\n",
      "24/24 [==============================] - 0s 540us/step - loss: 0.4889 - accuracy: 0.8680\n",
      "Epoch 24/100\n",
      "24/24 [==============================] - 0s 540us/step - loss: 0.4815 - accuracy: 0.8693\n",
      "Epoch 25/100\n",
      "24/24 [==============================] - 0s 582us/step - loss: 0.4743 - accuracy: 0.8680\n",
      "Epoch 26/100\n",
      "24/24 [==============================] - 0s 540us/step - loss: 0.4676 - accuracy: 0.8680\n",
      "Epoch 27/100\n",
      "24/24 [==============================] - 0s 582us/step - loss: 0.4610 - accuracy: 0.8680\n",
      "Epoch 28/100\n",
      "24/24 [==============================] - 0s 540us/step - loss: 0.4549 - accuracy: 0.8693\n",
      "Epoch 29/100\n",
      "24/24 [==============================] - 0s 582us/step - loss: 0.4489 - accuracy: 0.8693\n",
      "Epoch 30/100\n",
      "24/24 [==============================] - 0s 582us/step - loss: 0.4433 - accuracy: 0.8693\n",
      "Epoch 31/100\n",
      "24/24 [==============================] - 0s 540us/step - loss: 0.4377 - accuracy: 0.8680\n",
      "Epoch 32/100\n",
      "24/24 [==============================] - 0s 561us/step - loss: 0.4325 - accuracy: 0.8693\n",
      "Epoch 33/100\n",
      "24/24 [==============================] - 0s 540us/step - loss: 0.4276 - accuracy: 0.8720\n",
      "Epoch 34/100\n",
      "24/24 [==============================] - 0s 540us/step - loss: 0.4228 - accuracy: 0.8733\n",
      "Epoch 35/100\n",
      "24/24 [==============================] - 0s 540us/step - loss: 0.4183 - accuracy: 0.8733\n",
      "Epoch 36/100\n",
      "24/24 [==============================] - 0s 582us/step - loss: 0.4139 - accuracy: 0.8733\n",
      "Epoch 37/100\n",
      "24/24 [==============================] - 0s 540us/step - loss: 0.4098 - accuracy: 0.8720\n",
      "Epoch 38/100\n",
      "24/24 [==============================] - 0s 540us/step - loss: 0.4059 - accuracy: 0.8707\n",
      "Epoch 39/100\n",
      "24/24 [==============================] - 0s 540us/step - loss: 0.4020 - accuracy: 0.8720\n",
      "Epoch 40/100\n",
      "24/24 [==============================] - 0s 582us/step - loss: 0.3984 - accuracy: 0.8733\n",
      "Epoch 41/100\n",
      "24/24 [==============================] - 0s 540us/step - loss: 0.3950 - accuracy: 0.8747\n",
      "Epoch 42/100\n",
      "24/24 [==============================] - 0s 582us/step - loss: 0.3917 - accuracy: 0.8747\n",
      "Epoch 43/100\n",
      "24/24 [==============================] - 0s 540us/step - loss: 0.3885 - accuracy: 0.8747\n",
      "Epoch 44/100\n",
      "24/24 [==============================] - 0s 582us/step - loss: 0.3855 - accuracy: 0.8760\n",
      "Epoch 45/100\n",
      "24/24 [==============================] - 0s 564us/step - loss: 0.3825 - accuracy: 0.8773\n",
      "Epoch 46/100\n",
      "24/24 [==============================] - 0s 582us/step - loss: 0.3795 - accuracy: 0.8773\n",
      "Epoch 47/100\n",
      "24/24 [==============================] - 0s 582us/step - loss: 0.3767 - accuracy: 0.8760\n",
      "Epoch 48/100\n",
      "24/24 [==============================] - 0s 582us/step - loss: 0.3738 - accuracy: 0.8760\n",
      "Epoch 49/100\n",
      "24/24 [==============================] - 0s 582us/step - loss: 0.3710 - accuracy: 0.8773\n",
      "Epoch 50/100\n",
      "24/24 [==============================] - 0s 540us/step - loss: 0.3683 - accuracy: 0.8773\n",
      "Epoch 51/100\n",
      "24/24 [==============================] - 0s 582us/step - loss: 0.3657 - accuracy: 0.8773\n",
      "Epoch 52/100\n",
      "24/24 [==============================] - 0s 582us/step - loss: 0.3631 - accuracy: 0.8773\n",
      "Epoch 53/100\n",
      "24/24 [==============================] - 0s 540us/step - loss: 0.3608 - accuracy: 0.8787\n",
      "Epoch 54/100\n",
      "24/24 [==============================] - 0s 582us/step - loss: 0.3584 - accuracy: 0.8787\n",
      "Epoch 55/100\n",
      "24/24 [==============================] - 0s 623us/step - loss: 0.3561 - accuracy: 0.8813\n",
      "Epoch 56/100\n",
      "24/24 [==============================] - 0s 623us/step - loss: 0.3539 - accuracy: 0.8813\n",
      "Epoch 57/100\n",
      "24/24 [==============================] - 0s 567us/step - loss: 0.3517 - accuracy: 0.8813\n",
      "Epoch 58/100\n",
      "24/24 [==============================] - 0s 582us/step - loss: 0.3496 - accuracy: 0.8813\n",
      "Epoch 59/100\n",
      "24/24 [==============================] - 0s 582us/step - loss: 0.3476 - accuracy: 0.8827\n",
      "Epoch 60/100\n",
      "24/24 [==============================] - 0s 582us/step - loss: 0.3456 - accuracy: 0.8827\n",
      "Epoch 61/100\n",
      "24/24 [==============================] - 0s 582us/step - loss: 0.3436 - accuracy: 0.8827\n",
      "Epoch 62/100\n",
      "24/24 [==============================] - 0s 582us/step - loss: 0.3417 - accuracy: 0.8827\n",
      "Epoch 63/100\n",
      "24/24 [==============================] - 0s 540us/step - loss: 0.3397 - accuracy: 0.8840\n",
      "Epoch 64/100\n",
      "24/24 [==============================] - 0s 612us/step - loss: 0.3379 - accuracy: 0.8840\n",
      "Epoch 65/100\n",
      "24/24 [==============================] - 0s 582us/step - loss: 0.3362 - accuracy: 0.8840\n",
      "Epoch 66/100\n",
      "24/24 [==============================] - 0s 540us/step - loss: 0.3344 - accuracy: 0.8853\n",
      "Epoch 67/100\n",
      "24/24 [==============================] - 0s 540us/step - loss: 0.3328 - accuracy: 0.8853\n",
      "Epoch 68/100\n",
      "24/24 [==============================] - 0s 540us/step - loss: 0.3312 - accuracy: 0.8853\n",
      "Epoch 69/100\n",
      "24/24 [==============================] - 0s 582us/step - loss: 0.3296 - accuracy: 0.8853\n",
      "Epoch 70/100\n",
      "24/24 [==============================] - 0s 580us/step - loss: 0.3281 - accuracy: 0.8853\n",
      "Epoch 71/100\n",
      "24/24 [==============================] - 0s 540us/step - loss: 0.3266 - accuracy: 0.8853\n",
      "Epoch 72/100\n",
      "24/24 [==============================] - 0s 582us/step - loss: 0.3251 - accuracy: 0.8853\n",
      "Epoch 73/100\n",
      "24/24 [==============================] - 0s 540us/step - loss: 0.3237 - accuracy: 0.8853\n",
      "Epoch 74/100\n",
      "24/24 [==============================] - 0s 582us/step - loss: 0.3222 - accuracy: 0.8853\n",
      "Epoch 75/100\n",
      "24/24 [==============================] - 0s 540us/step - loss: 0.3207 - accuracy: 0.8853\n",
      "Epoch 76/100\n",
      "24/24 [==============================] - 0s 540us/step - loss: 0.3194 - accuracy: 0.8853\n",
      "Epoch 77/100\n",
      "24/24 [==============================] - 0s 540us/step - loss: 0.3181 - accuracy: 0.8853\n",
      "Epoch 78/100\n",
      "24/24 [==============================] - 0s 582us/step - loss: 0.3169 - accuracy: 0.8853\n",
      "Epoch 79/100\n",
      "24/24 [==============================] - 0s 582us/step - loss: 0.3157 - accuracy: 0.8853\n",
      "Epoch 80/100\n",
      "24/24 [==============================] - 0s 582us/step - loss: 0.3144 - accuracy: 0.8853\n",
      "Epoch 81/100\n"
     ]
    },
    {
     "name": "stdout",
     "output_type": "stream",
     "text": [
      "24/24 [==============================] - 0s 582us/step - loss: 0.3133 - accuracy: 0.8853\n",
      "Epoch 82/100\n",
      "24/24 [==============================] - 0s 540us/step - loss: 0.3120 - accuracy: 0.8853\n",
      "Epoch 83/100\n",
      "24/24 [==============================] - 0s 540us/step - loss: 0.3108 - accuracy: 0.8853\n",
      "Epoch 84/100\n",
      "24/24 [==============================] - 0s 540us/step - loss: 0.3097 - accuracy: 0.8853\n",
      "Epoch 85/100\n",
      "24/24 [==============================] - 0s 540us/step - loss: 0.3085 - accuracy: 0.8853\n",
      "Epoch 86/100\n",
      "24/24 [==============================] - 0s 540us/step - loss: 0.3076 - accuracy: 0.8867\n",
      "Epoch 87/100\n",
      "24/24 [==============================] - 0s 540us/step - loss: 0.3065 - accuracy: 0.8893\n",
      "Epoch 88/100\n",
      "24/24 [==============================] - 0s 540us/step - loss: 0.3056 - accuracy: 0.8880\n",
      "Epoch 89/100\n",
      "24/24 [==============================] - 0s 623us/step - loss: 0.3045 - accuracy: 0.8893\n",
      "Epoch 90/100\n",
      "24/24 [==============================] - 0s 540us/step - loss: 0.3036 - accuracy: 0.8893\n",
      "Epoch 91/100\n",
      "24/24 [==============================] - 0s 540us/step - loss: 0.3028 - accuracy: 0.8893\n",
      "Epoch 92/100\n",
      "24/24 [==============================] - 0s 582us/step - loss: 0.3018 - accuracy: 0.8893\n",
      "Epoch 93/100\n",
      "24/24 [==============================] - 0s 540us/step - loss: 0.3010 - accuracy: 0.8893\n",
      "Epoch 94/100\n",
      "24/24 [==============================] - 0s 540us/step - loss: 0.3002 - accuracy: 0.8893\n",
      "Epoch 95/100\n",
      "24/24 [==============================] - 0s 540us/step - loss: 0.2993 - accuracy: 0.8893\n",
      "Epoch 96/100\n",
      "24/24 [==============================] - 0s 540us/step - loss: 0.2985 - accuracy: 0.8893\n",
      "Epoch 97/100\n",
      "24/24 [==============================] - 0s 540us/step - loss: 0.2978 - accuracy: 0.8893\n",
      "Epoch 98/100\n",
      "24/24 [==============================] - 0s 540us/step - loss: 0.2970 - accuracy: 0.8907\n",
      "Epoch 99/100\n",
      "24/24 [==============================] - 0s 549us/step - loss: 0.2964 - accuracy: 0.8893\n",
      "Epoch 100/100\n",
      "24/24 [==============================] - 0s 582us/step - loss: 0.2957 - accuracy: 0.8893\n"
     ]
    }
   ],
   "source": [
    "# Training the model with the nonlinear data\n",
    "model_moon = nn_model.fit(X_moon_train_scaled, y_moon_train, epochs=100, shuffle=True)"
   ]
  },
  {
   "cell_type": "code",
   "execution_count": 18,
   "metadata": {},
   "outputs": [
    {
     "data": {
      "text/plain": [
       "<matplotlib.axes._subplots.AxesSubplot at 0x17df568ff08>"
      ]
     },
     "execution_count": 18,
     "metadata": {},
     "output_type": "execute_result"
    },
    {
     "data": {
      "image/png": "[encoded data removed]",
      "text/plain": [
       "<Figure size 432x288 with 1 Axes>"
      ]
     },
     "metadata": {
      "needs_background": "light"
     },
     "output_type": "display_data"
    }
   ],
   "source": [
    "# Create a DataFrame containing training history\n",
    "history_df = pd.DataFrame(model_moon.history, index=range(1,len(model_moon.history[\"loss\"])+1))\n",
    "\n",
    "# Plot the loss\n",
    "history_df.plot(y=\"loss\")"
   ]
  },
  {
   "cell_type": "code",
   "execution_count": 19,
   "metadata": {},
   "outputs": [
    {
     "data": {
      "text/plain": [
       "<matplotlib.axes._subplots.AxesSubplot at 0x17df56474c8>"
      ]
     },
     "execution_count": 19,
     "metadata": {},
     "output_type": "execute_result"
    },
    {
     "data": {
      "image/png": "[encoded data removed]",
      "text/plain": [
       "<Figure size 432x288 with 1 Axes>"
      ]
     },
     "metadata": {
      "needs_background": "light"
     },
     "output_type": "display_data"
    }
   ],
   "source": [
    "# Plot the loss\n",
    "history_df.plot(y=\"accuracy\")"
   ]
  },
  {
   "cell_type": "code",
   "execution_count": 20,
   "metadata": {},
   "outputs": [],
   "source": [
    "# Generate our new Sequential model\n",
    "new_model = tf.keras.models.Sequential()"
   ]
  },
  {
   "cell_type": "code",
   "execution_count": 21,
   "metadata": {},
   "outputs": [],
   "source": [
    "# Add the input and hidden layer\n",
    "number_inputs = 2\n",
    "number_hidden_nodes = 6\n",
    "\n",
    "new_model.add(tf.keras.layers.Dense(units=number_hidden_nodes, activation=\"relu\", input_dim=number_inputs))\n",
    "\n",
    "# Add the output layer that uses a probability activation function\n",
    "new_model.add(tf.keras.layers.Dense(units=1, activation=\"sigmoid\"))"
   ]
  },
  {
   "cell_type": "code",
   "execution_count": 22,
   "metadata": {},
   "outputs": [
    {
     "name": "stdout",
     "output_type": "stream",
     "text": [
      "Epoch 1/100\n",
      "24/24 [==============================] - 0s 374us/step - loss: 0.7285 - accuracy: 0.4693\n",
      "Epoch 2/100\n",
      "24/24 [==============================] - 0s 374us/step - loss: 0.7001 - accuracy: 0.4693\n",
      "Epoch 3/100\n",
      "24/24 [==============================] - 0s 374us/step - loss: 0.6730 - accuracy: 0.4747\n",
      "Epoch 4/100\n",
      "24/24 [==============================] - 0s 332us/step - loss: 0.6466 - accuracy: 0.5493\n",
      "Epoch 5/100\n",
      "24/24 [==============================] - 0s 374us/step - loss: 0.6211 - accuracy: 0.6173\n",
      "Epoch 6/100\n",
      "24/24 [==============================] - 0s 416us/step - loss: 0.5950 - accuracy: 0.6507\n",
      "Epoch 7/100\n",
      "24/24 [==============================] - 0s 374us/step - loss: 0.5700 - accuracy: 0.6813\n",
      "Epoch 8/100\n",
      "24/24 [==============================] - 0s 363us/step - loss: 0.5444 - accuracy: 0.7213\n",
      "Epoch 9/100\n",
      "24/24 [==============================] - 0s 374us/step - loss: 0.5197 - accuracy: 0.7747\n",
      "Epoch 10/100\n",
      "24/24 [==============================] - 0s 374us/step - loss: 0.4953 - accuracy: 0.8000\n",
      "Epoch 11/100\n",
      "24/24 [==============================] - 0s 332us/step - loss: 0.4718 - accuracy: 0.8267\n",
      "Epoch 12/100\n",
      "24/24 [==============================] - 0s 374us/step - loss: 0.4494 - accuracy: 0.8400\n",
      "Epoch 13/100\n",
      "24/24 [==============================] - 0s 332us/step - loss: 0.4280 - accuracy: 0.8440\n",
      "Epoch 14/100\n",
      "24/24 [==============================] - 0s 374us/step - loss: 0.4084 - accuracy: 0.8547\n",
      "Epoch 15/100\n",
      "24/24 [==============================] - 0s 374us/step - loss: 0.3904 - accuracy: 0.8613\n",
      "Epoch 16/100\n",
      "24/24 [==============================] - 0s 348us/step - loss: 0.3743 - accuracy: 0.8680\n",
      "Epoch 17/100\n",
      "24/24 [==============================] - 0s 374us/step - loss: 0.3596 - accuracy: 0.8747\n",
      "Epoch 18/100\n",
      "24/24 [==============================] - 0s 374us/step - loss: 0.3465 - accuracy: 0.8773\n",
      "Epoch 19/100\n",
      "24/24 [==============================] - 0s 332us/step - loss: 0.3346 - accuracy: 0.8827\n",
      "Epoch 20/100\n",
      "24/24 [==============================] - 0s 374us/step - loss: 0.3242 - accuracy: 0.8867\n",
      "Epoch 21/100\n",
      "24/24 [==============================] - 0s 377us/step - loss: 0.3146 - accuracy: 0.8893\n",
      "Epoch 22/100\n",
      "24/24 [==============================] - 0s 405us/step - loss: 0.3063 - accuracy: 0.8880\n",
      "Epoch 23/100\n",
      "24/24 [==============================] - 0s 374us/step - loss: 0.2989 - accuracy: 0.8907\n",
      "Epoch 24/100\n",
      "24/24 [==============================] - 0s 348us/step - loss: 0.2922 - accuracy: 0.8920\n",
      "Epoch 25/100\n",
      "24/24 [==============================] - 0s 374us/step - loss: 0.2865 - accuracy: 0.8920\n",
      "Epoch 26/100\n",
      "24/24 [==============================] - 0s 374us/step - loss: 0.2813 - accuracy: 0.8907\n",
      "Epoch 27/100\n",
      "24/24 [==============================] - 0s 374us/step - loss: 0.2767 - accuracy: 0.8920\n",
      "Epoch 28/100\n",
      "24/24 [==============================] - 0s 332us/step - loss: 0.2725 - accuracy: 0.8933\n",
      "Epoch 29/100\n",
      "24/24 [==============================] - 0s 354us/step - loss: 0.2688 - accuracy: 0.8933\n",
      "Epoch 30/100\n",
      "24/24 [==============================] - 0s 398us/step - loss: 0.2656 - accuracy: 0.8947\n",
      "Epoch 31/100\n",
      "24/24 [==============================] - 0s 416us/step - loss: 0.2625 - accuracy: 0.8947\n",
      "Epoch 32/100\n",
      "24/24 [==============================] - 0s 332us/step - loss: 0.2598 - accuracy: 0.8947\n",
      "Epoch 33/100\n",
      "24/24 [==============================] - 0s 416us/step - loss: 0.2573 - accuracy: 0.8947\n",
      "Epoch 34/100\n",
      "24/24 [==============================] - 0s 416us/step - loss: 0.2551 - accuracy: 0.8960\n",
      "Epoch 35/100\n",
      "24/24 [==============================] - 0s 374us/step - loss: 0.2531 - accuracy: 0.8973\n",
      "Epoch 36/100\n",
      "24/24 [==============================] - 0s 374us/step - loss: 0.2513 - accuracy: 0.8987\n",
      "Epoch 37/100\n",
      "24/24 [==============================] - 0s 374us/step - loss: 0.2494 - accuracy: 0.8987\n",
      "Epoch 38/100\n",
      "24/24 [==============================] - ETA: 0s - loss: 0.4217 - accuracy: 0.81 - 0s 374us/step - loss: 0.2478 - accuracy: 0.9000\n",
      "Epoch 39/100\n",
      "24/24 [==============================] - 0s 384us/step - loss: 0.2463 - accuracy: 0.9013\n",
      "Epoch 40/100\n",
      "24/24 [==============================] - 0s 374us/step - loss: 0.2449 - accuracy: 0.9013\n",
      "Epoch 41/100\n",
      "24/24 [==============================] - 0s 374us/step - loss: 0.2436 - accuracy: 0.9040\n",
      "Epoch 42/100\n",
      "24/24 [==============================] - 0s 374us/step - loss: 0.2425 - accuracy: 0.9040\n",
      "Epoch 43/100\n",
      "24/24 [==============================] - 0s 374us/step - loss: 0.2413 - accuracy: 0.9040\n",
      "Epoch 44/100\n",
      "24/24 [==============================] - 0s 396us/step - loss: 0.2402 - accuracy: 0.9040\n",
      "Epoch 45/100\n",
      "24/24 [==============================] - 0s 374us/step - loss: 0.2392 - accuracy: 0.9040\n",
      "Epoch 46/100\n",
      "24/24 [==============================] - 0s 374us/step - loss: 0.2381 - accuracy: 0.9053\n",
      "Epoch 47/100\n",
      "24/24 [==============================] - 0s 374us/step - loss: 0.2371 - accuracy: 0.9053\n",
      "Epoch 48/100\n",
      "24/24 [==============================] - 0s 374us/step - loss: 0.2361 - accuracy: 0.9053\n",
      "Epoch 49/100\n",
      "24/24 [==============================] - 0s 374us/step - loss: 0.2352 - accuracy: 0.9067\n",
      "Epoch 50/100\n",
      "24/24 [==============================] - 0s 374us/step - loss: 0.2344 - accuracy: 0.9080\n",
      "Epoch 51/100\n",
      "24/24 [==============================] - 0s 374us/step - loss: 0.2336 - accuracy: 0.9080\n",
      "Epoch 52/100\n",
      "24/24 [==============================] - 0s 374us/step - loss: 0.2327 - accuracy: 0.9080\n",
      "Epoch 53/100\n",
      "24/24 [==============================] - 0s 374us/step - loss: 0.2320 - accuracy: 0.9080\n",
      "Epoch 54/100\n",
      "24/24 [==============================] - 0s 374us/step - loss: 0.2313 - accuracy: 0.9067\n",
      "Epoch 55/100\n",
      "24/24 [==============================] - 0s 374us/step - loss: 0.2306 - accuracy: 0.9053\n",
      "Epoch 56/100\n",
      "24/24 [==============================] - 0s 374us/step - loss: 0.2298 - accuracy: 0.9067\n",
      "Epoch 57/100\n",
      "24/24 [==============================] - 0s 415us/step - loss: 0.2292 - accuracy: 0.9067\n",
      "Epoch 58/100\n",
      "24/24 [==============================] - 0s 416us/step - loss: 0.2286 - accuracy: 0.9067\n",
      "Epoch 59/100\n",
      "24/24 [==============================] - 0s 374us/step - loss: 0.2281 - accuracy: 0.9053\n",
      "Epoch 60/100\n",
      "24/24 [==============================] - 0s 374us/step - loss: 0.2275 - accuracy: 0.9053\n",
      "Epoch 61/100\n",
      "24/24 [==============================] - 0s 374us/step - loss: 0.2268 - accuracy: 0.9040\n",
      "Epoch 62/100\n",
      "24/24 [==============================] - 0s 374us/step - loss: 0.2263 - accuracy: 0.9040\n",
      "Epoch 63/100\n",
      "24/24 [==============================] - 0s 374us/step - loss: 0.2258 - accuracy: 0.9040\n",
      "Epoch 64/100\n",
      "24/24 [==============================] - 0s 416us/step - loss: 0.2254 - accuracy: 0.9053\n",
      "Epoch 65/100\n",
      "24/24 [==============================] - 0s 416us/step - loss: 0.2247 - accuracy: 0.9080\n",
      "Epoch 66/100\n",
      "24/24 [==============================] - 0s 374us/step - loss: 0.2242 - accuracy: 0.9067\n",
      "Epoch 67/100\n",
      "24/24 [==============================] - 0s 374us/step - loss: 0.2237 - accuracy: 0.9080\n",
      "Epoch 68/100\n",
      "24/24 [==============================] - 0s 374us/step - loss: 0.2234 - accuracy: 0.9067\n",
      "Epoch 69/100\n",
      "24/24 [==============================] - 0s 374us/step - loss: 0.2228 - accuracy: 0.9080\n",
      "Epoch 70/100\n",
      "24/24 [==============================] - 0s 374us/step - loss: 0.2224 - accuracy: 0.9080\n",
      "Epoch 71/100\n",
      "24/24 [==============================] - 0s 374us/step - loss: 0.2220 - accuracy: 0.9080\n",
      "Epoch 72/100\n",
      "24/24 [==============================] - 0s 332us/step - loss: 0.2214 - accuracy: 0.9080\n",
      "Epoch 73/100\n",
      "24/24 [==============================] - 0s 374us/step - loss: 0.2211 - accuracy: 0.9080\n",
      "Epoch 74/100\n",
      "24/24 [==============================] - 0s 374us/step - loss: 0.2207 - accuracy: 0.9093\n",
      "Epoch 75/100\n",
      "24/24 [==============================] - 0s 374us/step - loss: 0.2205 - accuracy: 0.9067\n",
      "Epoch 76/100\n",
      "24/24 [==============================] - 0s 374us/step - loss: 0.2200 - accuracy: 0.9080\n",
      "Epoch 77/100\n",
      "24/24 [==============================] - 0s 374us/step - loss: 0.2196 - accuracy: 0.9093\n",
      "Epoch 78/100\n",
      "24/24 [==============================] - 0s 361us/step - loss: 0.2191 - accuracy: 0.9080\n",
      "Epoch 79/100\n",
      "24/24 [==============================] - 0s 374us/step - loss: 0.2187 - accuracy: 0.9080\n",
      "Epoch 80/100\n",
      "24/24 [==============================] - 0s 359us/step - loss: 0.2184 - accuracy: 0.9093\n"
     ]
    },
    {
     "name": "stdout",
     "output_type": "stream",
     "text": [
      "Epoch 81/100\n",
      "24/24 [==============================] - 0s 332us/step - loss: 0.2179 - accuracy: 0.9080\n",
      "Epoch 82/100\n",
      "24/24 [==============================] - 0s 374us/step - loss: 0.2176 - accuracy: 0.9080\n",
      "Epoch 83/100\n",
      "24/24 [==============================] - 0s 366us/step - loss: 0.2172 - accuracy: 0.9080\n",
      "Epoch 84/100\n",
      "24/24 [==============================] - 0s 332us/step - loss: 0.2169 - accuracy: 0.9080\n",
      "Epoch 85/100\n",
      "24/24 [==============================] - 0s 374us/step - loss: 0.2165 - accuracy: 0.9080\n",
      "Epoch 86/100\n",
      "24/24 [==============================] - 0s 336us/step - loss: 0.2162 - accuracy: 0.9067\n",
      "Epoch 87/100\n",
      "24/24 [==============================] - 0s 374us/step - loss: 0.2158 - accuracy: 0.9080\n",
      "Epoch 88/100\n",
      "24/24 [==============================] - 0s 332us/step - loss: 0.2155 - accuracy: 0.9067\n",
      "Epoch 89/100\n",
      "24/24 [==============================] - 0s 374us/step - loss: 0.2152 - accuracy: 0.9067\n",
      "Epoch 90/100\n",
      "24/24 [==============================] - 0s 332us/step - loss: 0.2150 - accuracy: 0.9080\n",
      "Epoch 91/100\n",
      "24/24 [==============================] - 0s 347us/step - loss: 0.2147 - accuracy: 0.9053\n",
      "Epoch 92/100\n",
      "24/24 [==============================] - 0s 374us/step - loss: 0.2142 - accuracy: 0.9053\n",
      "Epoch 93/100\n",
      "24/24 [==============================] - 0s 374us/step - loss: 0.2140 - accuracy: 0.9053\n",
      "Epoch 94/100\n",
      "24/24 [==============================] - 0s 332us/step - loss: 0.2137 - accuracy: 0.9067\n",
      "Epoch 95/100\n",
      "24/24 [==============================] - 0s 374us/step - loss: 0.2134 - accuracy: 0.9067\n",
      "Epoch 96/100\n",
      "24/24 [==============================] - 0s 332us/step - loss: 0.2132 - accuracy: 0.9067\n",
      "Epoch 97/100\n",
      "24/24 [==============================] - 0s 332us/step - loss: 0.2128 - accuracy: 0.9053\n",
      "Epoch 98/100\n",
      "24/24 [==============================] - 0s 374us/step - loss: 0.2126 - accuracy: 0.9040\n",
      "Epoch 99/100\n",
      "24/24 [==============================] - 0s 316us/step - loss: 0.2123 - accuracy: 0.9053\n",
      "Epoch 100/100\n",
      "24/24 [==============================] - 0s 374us/step - loss: 0.2120 - accuracy: 0.9027\n"
     ]
    }
   ],
   "source": [
    "# Compile the Sequential model together and customize metrics\n",
    "new_model.compile(loss=\"binary_crossentropy\", optimizer=\"adam\", metrics=[\"accuracy\"])\n",
    "\n",
    "# Fit the model to the training data\n",
    "new_fit_model = new_model.fit(X_moon_train_scaled, y_moon_train, epochs=100, shuffle=True)\n"
   ]
  },
  {
   "cell_type": "code",
   "execution_count": null,
   "metadata": {},
   "outputs": [],
   "source": []
  }
 ],
 "metadata": {
  "kernelspec": {
   "display_name": "mlenv",
   "language": "python",
   "name": "mlenv"
  },
  "language_info": {
   "codemirror_mode": {
    "name": "ipython",
    "version": 3
   },
   "file_extension": ".py",
   "mimetype": "text/x-python",
   "name": "python",
   "nbconvert_exporter": "python",
   "pygments_lexer": "ipython3",
   "version": "3.7.7"
  }
 },
 "nbformat": 4,
 "nbformat_minor": 4
}
